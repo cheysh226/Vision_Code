{
 "cells": [
  {
   "cell_type": "code",
   "execution_count": 1,
   "metadata": {},
   "outputs": [],
   "source": [
    "import folium\n",
    "\n",
    "# 지도 생성 (예: 서울 중심)\n",
    "m = folium.Map(location=[37.5665, 126.9780], zoom_start=12)\n",
    "\n",
    "# 유체 흐름 데이터 (예시 좌표)\n",
    "flow_data = [\n",
    "    {'start': [37.5665, 126.9780], 'end': [37.5700, 126.9820], 'magnitude': 5},\n",
    "    {'start': [37.5700, 126.9820], 'end': [37.5750, 126.9900], 'magnitude': 3},\n",
    "    # 추가 데이터...\n",
    "]\n",
    "\n",
    "# 흐름 경로 시각화\n",
    "for flow in flow_data:\n",
    "    folium.PolyLine(\n",
    "        locations=[flow['start'], flow['end']],\n",
    "        color='blue',\n",
    "        weight=flow['magnitude']  # 유체 흐름의 크기에 따라 선의 두께 조절\n",
    "    ).add_to(m)\n",
    "\n",
    "# 지도 출력\n",
    "m.save('fluid_flow_map.html')\n"
   ]
  },
  {
   "cell_type": "code",
   "execution_count": 2,
   "metadata": {},
   "outputs": [
    {
     "name": "stdout",
     "output_type": "stream",
     "text": [
      "등고선 형태 유체 시뮬레이션이 완료되었습니다. 'fluid_spread_map.html' 파일을 확인하세요.\n"
     ]
    }
   ],
   "source": [
    "import folium\n",
    "from folium.plugins import TimestampedGeoJson\n",
    "import numpy as np\n",
    "import json\n",
    "\n",
    "# 지도 생성\n",
    "m = folium.Map(location=[37.5665, 126.9780], zoom_start=12)\n",
    "\n",
    "# 시뮬레이션 설정\n",
    "center = [37.5665, 126.9780]  # 유체 발생 중심\n",
    "steps = 10  # 시간 단계\n",
    "spread_rate = 0.01  # 유체 확산 비율\n",
    "base_intensity = 1.0  # 초기 농도\n",
    "\n",
    "# 시뮬레이션 데이터 생성\n",
    "data = {\n",
    "    \"type\": \"FeatureCollection\",\n",
    "    \"features\": []\n",
    "}\n",
    "\n",
    "for t in range(steps):\n",
    "    # 확산 반경 및 농도 감소\n",
    "    radius = spread_rate * (t + 1)\n",
    "    intensity = base_intensity / (t + 1)\n",
    "    \n",
    "    feature = {\n",
    "        \"type\": \"Feature\",\n",
    "        \"geometry\": {\n",
    "            \"type\": \"Polygon\",\n",
    "            \"coordinates\": [[\n",
    "                [center[1] + radius, center[0] + radius],\n",
    "                [center[1] - radius, center[0] + radius],\n",
    "                [center[1] - radius, center[0] - radius],\n",
    "                [center[1] + radius, center[0] - radius],\n",
    "                [center[1] + radius, center[0] + radius]\n",
    "            ]]\n",
    "        },\n",
    "        \"properties\": {\n",
    "            \"time\": f\"2024-12-23T00:{t:02d}:00Z\",  # 시간 표시\n",
    "            \"style\": {\n",
    "                \"color\": \"blue\",\n",
    "                \"fillColor\": f\"rgba(0, 0, 255, {intensity})\",\n",
    "                \"weight\": 2,\n",
    "                \"fillOpacity\": intensity\n",
    "            }\n",
    "        }\n",
    "    }\n",
    "    data[\"features\"].append(feature)\n",
    "\n",
    "# Timestamped GeoJSON 생성\n",
    "TimestampedGeoJson(\n",
    "    data,\n",
    "    transition_time=200,  # 단계 간 전환 속도 (ms)\n",
    "    auto_play=True,\n",
    "    loop=False\n",
    ").add_to(m)\n",
    "\n",
    "# 결과 저장\n",
    "m.save(\"fluid_spread_map.html\")\n",
    "\n",
    "print(\"등고선 형태 유체 시뮬레이션이 완료되었습니다. 'fluid_spread_map.html' 파일을 확인하세요.\")\n"
   ]
  },
  {
   "cell_type": "code",
   "execution_count": 4,
   "metadata": {},
   "outputs": [],
   "source": []
  }
 ],
 "metadata": {
  "kernelspec": {
   "display_name": "Python 3",
   "language": "python",
   "name": "python3"
  },
  "language_info": {
   "codemirror_mode": {
    "name": "ipython",
    "version": 3
   },
   "file_extension": ".py",
   "mimetype": "text/x-python",
   "name": "python",
   "nbconvert_exporter": "python",
   "pygments_lexer": "ipython3",
   "version": "3.10.0"
  }
 },
 "nbformat": 4,
 "nbformat_minor": 2
}
